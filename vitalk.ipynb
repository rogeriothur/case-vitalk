{
 "cells": [
  {
   "cell_type": "markdown",
   "id": "70edd2a1",
   "metadata": {},
   "source": [
    "## Importando bibliotecas para EDA\n"
   ]
  },
  {
   "cell_type": "code",
   "execution_count": 191,
   "id": "c9d25905",
   "metadata": {},
   "outputs": [],
   "source": [
    "import pandas as pd\n",
    "import numpy as np\n",
    "\n",
    "from matplotlib import pyplot as plt\n",
    "import seaborn as sns\n",
    "sns.set_style('darkgrid')\n",
    "\n",
    "import plotly.express as px\n",
    "import plotly.graph_objects as go\n",
    "from plotly.subplots import make_subplots\n",
    "import chart_studio.plotly as py"
   ]
  },
  {
   "cell_type": "markdown",
   "id": "1cbf8548",
   "metadata": {},
   "source": [
    "### Importado arquivos da base de dados"
   ]
  },
  {
   "cell_type": "code",
   "execution_count": 2,
   "id": "4cd05a8b",
   "metadata": {},
   "outputs": [],
   "source": [
    "df_inicio = pd.read_excel('data.xlsx', sheet_name=0)"
   ]
  },
  {
   "cell_type": "code",
   "execution_count": 3,
   "id": "1903f78e",
   "metadata": {},
   "outputs": [],
   "source": [
    "df_fim = pd.read_excel('data.xlsx', sheet_name=1, dtype={'Número de Interações no aplicativo': 'int32'})"
   ]
  },
  {
   "cell_type": "code",
   "execution_count": 4,
   "id": "74946443",
   "metadata": {},
   "outputs": [],
   "source": [
    "def eda(df):\n",
    "    \"\"\"\n",
    "    Gera uma dataframe com informações relevantes sobre o mesmo.\n",
    "    Generates a dataframe with relevant information about it\n",
    "    \n",
    "    :param df: pd.DataFrame para ser realizada a exploração\n",
    "    :param df: pd.DataFrameto be explored\n",
    "    \"\"\"\n",
    "    \n",
    "    explorar = pd.DataFrame({\n",
    "        'coluna' : df.columns,\n",
    "        'tipo' : df.dtypes,\n",
    "        'qtd_nulo' : df.isnull().sum()\n",
    "    })\n",
    "    \n",
    "    explorar['percent_nulo'] = np.round((explorar.qtd_nulo / df.shape[0]) * 100, 4)\n",
    "    \n",
    "    return explorar.sort_values(by='qtd_nulo', ascending=False)"
   ]
  },
  {
   "cell_type": "markdown",
   "id": "0c9b0182",
   "metadata": {},
   "source": [
    "### Conhecendo dados sobre o 1º formulário"
   ]
  },
  {
   "cell_type": "code",
   "execution_count": 5,
   "id": "81345141",
   "metadata": {},
   "outputs": [
    {
     "data": {
      "text/html": [
       "<div>\n",
       "<style scoped>\n",
       "    .dataframe tbody tr th:only-of-type {\n",
       "        vertical-align: middle;\n",
       "    }\n",
       "\n",
       "    .dataframe tbody tr th {\n",
       "        vertical-align: top;\n",
       "    }\n",
       "\n",
       "    .dataframe thead th {\n",
       "        text-align: right;\n",
       "    }\n",
       "</style>\n",
       "<table border=\"1\" class=\"dataframe\">\n",
       "  <thead>\n",
       "    <tr style=\"text-align: right;\">\n",
       "      <th></th>\n",
       "      <th>coluna</th>\n",
       "      <th>tipo</th>\n",
       "      <th>qtd_nulo</th>\n",
       "      <th>percent_nulo</th>\n",
       "    </tr>\n",
       "  </thead>\n",
       "  <tbody>\n",
       "    <tr>\n",
       "      <th>Id</th>\n",
       "      <td>Id</td>\n",
       "      <td>int64</td>\n",
       "      <td>0</td>\n",
       "      <td>0.0</td>\n",
       "    </tr>\n",
       "    <tr>\n",
       "      <th>Nervosa ou Tensa?</th>\n",
       "      <td>Nervosa ou Tensa?</td>\n",
       "      <td>int64</td>\n",
       "      <td>0</td>\n",
       "      <td>0.0</td>\n",
       "    </tr>\n",
       "    <tr>\n",
       "      <th>Consegue controlar as preocupações?</th>\n",
       "      <td>Consegue controlar as preocupações?</td>\n",
       "      <td>int64</td>\n",
       "      <td>0</td>\n",
       "      <td>0.0</td>\n",
       "    </tr>\n",
       "    <tr>\n",
       "      <th>Se preocupou demais?</th>\n",
       "      <td>Se preocupou demais?</td>\n",
       "      <td>int64</td>\n",
       "      <td>0</td>\n",
       "      <td>0.0</td>\n",
       "    </tr>\n",
       "    <tr>\n",
       "      <th>Dificuldades para Relaxar?</th>\n",
       "      <td>Dificuldades para Relaxar?</td>\n",
       "      <td>int64</td>\n",
       "      <td>0</td>\n",
       "      <td>0.0</td>\n",
       "    </tr>\n",
       "    <tr>\n",
       "      <th>Aborrecida ou Tensa?</th>\n",
       "      <td>Aborrecida ou Tensa?</td>\n",
       "      <td>int64</td>\n",
       "      <td>0</td>\n",
       "      <td>0.0</td>\n",
       "    </tr>\n",
       "    <tr>\n",
       "      <th>Ficou Agitada?</th>\n",
       "      <td>Ficou Agitada?</td>\n",
       "      <td>int64</td>\n",
       "      <td>0</td>\n",
       "      <td>0.0</td>\n",
       "    </tr>\n",
       "    <tr>\n",
       "      <th>Possui algum Medo Grande?</th>\n",
       "      <td>Possui algum Medo Grande?</td>\n",
       "      <td>int64</td>\n",
       "      <td>0</td>\n",
       "      <td>0.0</td>\n",
       "    </tr>\n",
       "    <tr>\n",
       "      <th>Data da Resposta</th>\n",
       "      <td>Data da Resposta</td>\n",
       "      <td>object</td>\n",
       "      <td>0</td>\n",
       "      <td>0.0</td>\n",
       "    </tr>\n",
       "    <tr>\n",
       "      <th>Nome da Empresa</th>\n",
       "      <td>Nome da Empresa</td>\n",
       "      <td>object</td>\n",
       "      <td>0</td>\n",
       "      <td>0.0</td>\n",
       "    </tr>\n",
       "  </tbody>\n",
       "</table>\n",
       "</div>"
      ],
      "text/plain": [
       "                                                                  coluna  \\\n",
       "Id                                                                    Id   \n",
       "Nervosa ou Tensa?                                      Nervosa ou Tensa?   \n",
       "Consegue controlar as preocupações?  Consegue controlar as preocupações?   \n",
       "Se preocupou demais?                                Se preocupou demais?   \n",
       "Dificuldades para Relaxar?                    Dificuldades para Relaxar?   \n",
       "Aborrecida ou Tensa?                                Aborrecida ou Tensa?   \n",
       "Ficou Agitada?                                            Ficou Agitada?   \n",
       "Possui algum Medo Grande?                      Possui algum Medo Grande?   \n",
       "Data da Resposta                                        Data da Resposta   \n",
       "Nome da Empresa                                          Nome da Empresa   \n",
       "\n",
       "                                       tipo  qtd_nulo  percent_nulo  \n",
       "Id                                    int64         0           0.0  \n",
       "Nervosa ou Tensa?                     int64         0           0.0  \n",
       "Consegue controlar as preocupações?   int64         0           0.0  \n",
       "Se preocupou demais?                  int64         0           0.0  \n",
       "Dificuldades para Relaxar?            int64         0           0.0  \n",
       "Aborrecida ou Tensa?                  int64         0           0.0  \n",
       "Ficou Agitada?                        int64         0           0.0  \n",
       "Possui algum Medo Grande?             int64         0           0.0  \n",
       "Data da Resposta                     object         0           0.0  \n",
       "Nome da Empresa                      object         0           0.0  "
      ]
     },
     "execution_count": 5,
     "metadata": {},
     "output_type": "execute_result"
    }
   ],
   "source": [
    "eda(df_inicio)"
   ]
  },
  {
   "cell_type": "code",
   "execution_count": 6,
   "id": "4918cbb7",
   "metadata": {},
   "outputs": [
    {
     "data": {
      "text/html": [
       "<div>\n",
       "<style scoped>\n",
       "    .dataframe tbody tr th:only-of-type {\n",
       "        vertical-align: middle;\n",
       "    }\n",
       "\n",
       "    .dataframe tbody tr th {\n",
       "        vertical-align: top;\n",
       "    }\n",
       "\n",
       "    .dataframe thead th {\n",
       "        text-align: right;\n",
       "    }\n",
       "</style>\n",
       "<table border=\"1\" class=\"dataframe\">\n",
       "  <thead>\n",
       "    <tr style=\"text-align: right;\">\n",
       "      <th></th>\n",
       "      <th>Id</th>\n",
       "      <th>Nervosa ou Tensa?</th>\n",
       "      <th>Consegue controlar as preocupações?</th>\n",
       "      <th>Se preocupou demais?</th>\n",
       "      <th>Dificuldades para Relaxar?</th>\n",
       "      <th>Aborrecida ou Tensa?</th>\n",
       "      <th>Ficou Agitada?</th>\n",
       "      <th>Possui algum Medo Grande?</th>\n",
       "      <th>Data da Resposta</th>\n",
       "      <th>Nome da Empresa</th>\n",
       "    </tr>\n",
       "  </thead>\n",
       "  <tbody>\n",
       "    <tr>\n",
       "      <th>0</th>\n",
       "      <td>561621</td>\n",
       "      <td>1</td>\n",
       "      <td>1</td>\n",
       "      <td>1</td>\n",
       "      <td>2</td>\n",
       "      <td>2</td>\n",
       "      <td>1</td>\n",
       "      <td>1</td>\n",
       "      <td>2019-08-28</td>\n",
       "      <td>Empresa A</td>\n",
       "    </tr>\n",
       "    <tr>\n",
       "      <th>1</th>\n",
       "      <td>569493</td>\n",
       "      <td>3</td>\n",
       "      <td>2</td>\n",
       "      <td>1</td>\n",
       "      <td>2</td>\n",
       "      <td>1</td>\n",
       "      <td>1</td>\n",
       "      <td>1</td>\n",
       "      <td>2019-09-07</td>\n",
       "      <td>Empresa B</td>\n",
       "    </tr>\n",
       "    <tr>\n",
       "      <th>2</th>\n",
       "      <td>569678</td>\n",
       "      <td>3</td>\n",
       "      <td>2</td>\n",
       "      <td>3</td>\n",
       "      <td>3</td>\n",
       "      <td>1</td>\n",
       "      <td>1</td>\n",
       "      <td>1</td>\n",
       "      <td>2019-09-07</td>\n",
       "      <td>Empresa A</td>\n",
       "    </tr>\n",
       "    <tr>\n",
       "      <th>3</th>\n",
       "      <td>563322</td>\n",
       "      <td>2</td>\n",
       "      <td>2</td>\n",
       "      <td>3</td>\n",
       "      <td>2</td>\n",
       "      <td>3</td>\n",
       "      <td>1</td>\n",
       "      <td>3</td>\n",
       "      <td>2019-08-30</td>\n",
       "      <td>Empresa C</td>\n",
       "    </tr>\n",
       "    <tr>\n",
       "      <th>4</th>\n",
       "      <td>563079</td>\n",
       "      <td>1</td>\n",
       "      <td>1</td>\n",
       "      <td>1</td>\n",
       "      <td>2</td>\n",
       "      <td>1</td>\n",
       "      <td>0</td>\n",
       "      <td>1</td>\n",
       "      <td>2019-08-29</td>\n",
       "      <td>Empresa B</td>\n",
       "    </tr>\n",
       "  </tbody>\n",
       "</table>\n",
       "</div>"
      ],
      "text/plain": [
       "       Id  Nervosa ou Tensa?  Consegue controlar as preocupações?  \\\n",
       "0  561621                  1                                    1   \n",
       "1  569493                  3                                    2   \n",
       "2  569678                  3                                    2   \n",
       "3  563322                  2                                    2   \n",
       "4  563079                  1                                    1   \n",
       "\n",
       "   Se preocupou demais?  Dificuldades para Relaxar?  Aborrecida ou Tensa?  \\\n",
       "0                     1                           2                     2   \n",
       "1                     1                           2                     1   \n",
       "2                     3                           3                     1   \n",
       "3                     3                           2                     3   \n",
       "4                     1                           2                     1   \n",
       "\n",
       "   Ficou Agitada?  Possui algum Medo Grande? Data da Resposta Nome da Empresa  \n",
       "0               1                          1       2019-08-28       Empresa A  \n",
       "1               1                          1       2019-09-07       Empresa B  \n",
       "2               1                          1       2019-09-07       Empresa A  \n",
       "3               1                          3       2019-08-30       Empresa C  \n",
       "4               0                          1       2019-08-29       Empresa B  "
      ]
     },
     "execution_count": 6,
     "metadata": {},
     "output_type": "execute_result"
    }
   ],
   "source": [
    "df_inicio.head()"
   ]
  },
  {
   "cell_type": "code",
   "execution_count": 7,
   "id": "df5b1a1b",
   "metadata": {
    "scrolled": true
   },
   "outputs": [
    {
     "data": {
      "text/plain": [
       "Id                                     1649\n",
       "Nervosa ou Tensa?                         4\n",
       "Consegue controlar as preocupações?       4\n",
       "Se preocupou demais?                      4\n",
       "Dificuldades para Relaxar?                4\n",
       "Aborrecida ou Tensa?                      4\n",
       "Ficou Agitada?                            4\n",
       "Possui algum Medo Grande?                 4\n",
       "Data da Resposta                        192\n",
       "Nome da Empresa                           3\n",
       "dtype: int64"
      ]
     },
     "execution_count": 7,
     "metadata": {},
     "output_type": "execute_result"
    }
   ],
   "source": [
    "df_inicio.nunique()"
   ]
  },
  {
   "cell_type": "code",
   "execution_count": 8,
   "id": "bd5e908f",
   "metadata": {
    "scrolled": true
   },
   "outputs": [
    {
     "name": "stdout",
     "output_type": "stream",
     "text": [
      "<class 'pandas.core.frame.DataFrame'>\n",
      "RangeIndex: 1649 entries, 0 to 1648\n",
      "Data columns (total 10 columns):\n",
      " #   Column                               Non-Null Count  Dtype \n",
      "---  ------                               --------------  ----- \n",
      " 0   Id                                   1649 non-null   int64 \n",
      " 1   Nervosa ou Tensa?                    1649 non-null   int64 \n",
      " 2   Consegue controlar as preocupações?  1649 non-null   int64 \n",
      " 3   Se preocupou demais?                 1649 non-null   int64 \n",
      " 4   Dificuldades para Relaxar?           1649 non-null   int64 \n",
      " 5   Aborrecida ou Tensa?                 1649 non-null   int64 \n",
      " 6   Ficou Agitada?                       1649 non-null   int64 \n",
      " 7   Possui algum Medo Grande?            1649 non-null   int64 \n",
      " 8   Data da Resposta                     1649 non-null   object\n",
      " 9   Nome da Empresa                      1649 non-null   object\n",
      "dtypes: int64(8), object(2)\n",
      "memory usage: 129.0+ KB\n"
     ]
    }
   ],
   "source": [
    "df_inicio.info()"
   ]
  },
  {
   "cell_type": "markdown",
   "id": "129d338c",
   "metadata": {},
   "source": [
    "### Alterando tipo de dados"
   ]
  },
  {
   "cell_type": "code",
   "execution_count": 9,
   "id": "dbcaee77",
   "metadata": {},
   "outputs": [],
   "source": [
    "df_inicio = df_inicio.astype({\n",
    "    'Nervosa ou Tensa?' : 'object',\n",
    "    'Consegue controlar as preocupações?' : 'object', \n",
    "    'Se preocupou demais?' : 'object',\n",
    "    'Dificuldades para Relaxar?' : 'object',\n",
    "    'Aborrecida ou Tensa?' : 'object',\n",
    "    'Ficou Agitada?' : 'object',\n",
    "    'Possui algum Medo Grande?' : 'object'\n",
    "})"
   ]
  },
  {
   "cell_type": "markdown",
   "id": "20a4eb74",
   "metadata": {},
   "source": [
    "### Alterando valores números para strings"
   ]
  },
  {
   "cell_type": "code",
   "execution_count": 10,
   "id": "681d380f",
   "metadata": {},
   "outputs": [],
   "source": [
    "def trocar_valores(df, nome_coluna):\n",
    "    df.loc[(df[nome_coluna] == 0), nome_coluna] = 'Nenhuma vez'\n",
    "    df.loc[(df[nome_coluna] == 1), nome_coluna] = 'Alguns dias'\n",
    "    df.loc[(df[nome_coluna] == 2), nome_coluna] = 'Mais da metade dos dias'\n",
    "    df.loc[(df[nome_coluna] == 3), nome_coluna] = 'Quase todos os dias'"
   ]
  },
  {
   "cell_type": "code",
   "execution_count": 11,
   "id": "7d9f1cc6",
   "metadata": {},
   "outputs": [],
   "source": [
    "trocar_valores(df_inicio, 'Nervosa ou Tensa?')\n",
    "trocar_valores(df_inicio, 'Consegue controlar as preocupações?')\n",
    "trocar_valores(df_inicio, 'Se preocupou demais?')\n",
    "trocar_valores(df_inicio, 'Dificuldades para Relaxar?')\n",
    "trocar_valores(df_inicio, 'Aborrecida ou Tensa?')\n",
    "trocar_valores(df_inicio, 'Ficou Agitada?')\n",
    "trocar_valores(df_inicio, 'Possui algum Medo Grande?')"
   ]
  },
  {
   "cell_type": "code",
   "execution_count": 12,
   "id": "cabee6de",
   "metadata": {},
   "outputs": [
    {
     "data": {
      "text/html": [
       "<div>\n",
       "<style scoped>\n",
       "    .dataframe tbody tr th:only-of-type {\n",
       "        vertical-align: middle;\n",
       "    }\n",
       "\n",
       "    .dataframe tbody tr th {\n",
       "        vertical-align: top;\n",
       "    }\n",
       "\n",
       "    .dataframe thead th {\n",
       "        text-align: right;\n",
       "    }\n",
       "</style>\n",
       "<table border=\"1\" class=\"dataframe\">\n",
       "  <thead>\n",
       "    <tr style=\"text-align: right;\">\n",
       "      <th></th>\n",
       "      <th>Id</th>\n",
       "      <th>Nervosa ou Tensa?</th>\n",
       "      <th>Consegue controlar as preocupações?</th>\n",
       "      <th>Se preocupou demais?</th>\n",
       "      <th>Dificuldades para Relaxar?</th>\n",
       "      <th>Aborrecida ou Tensa?</th>\n",
       "      <th>Ficou Agitada?</th>\n",
       "      <th>Possui algum Medo Grande?</th>\n",
       "      <th>Data da Resposta</th>\n",
       "      <th>Nome da Empresa</th>\n",
       "    </tr>\n",
       "  </thead>\n",
       "  <tbody>\n",
       "    <tr>\n",
       "      <th>0</th>\n",
       "      <td>561621</td>\n",
       "      <td>Alguns dias</td>\n",
       "      <td>Alguns dias</td>\n",
       "      <td>Alguns dias</td>\n",
       "      <td>Mais da metade dos dias</td>\n",
       "      <td>Mais da metade dos dias</td>\n",
       "      <td>Alguns dias</td>\n",
       "      <td>Alguns dias</td>\n",
       "      <td>2019-08-28</td>\n",
       "      <td>Empresa A</td>\n",
       "    </tr>\n",
       "    <tr>\n",
       "      <th>1</th>\n",
       "      <td>569493</td>\n",
       "      <td>Quase todos os dias</td>\n",
       "      <td>Mais da metade dos dias</td>\n",
       "      <td>Alguns dias</td>\n",
       "      <td>Mais da metade dos dias</td>\n",
       "      <td>Alguns dias</td>\n",
       "      <td>Alguns dias</td>\n",
       "      <td>Alguns dias</td>\n",
       "      <td>2019-09-07</td>\n",
       "      <td>Empresa B</td>\n",
       "    </tr>\n",
       "    <tr>\n",
       "      <th>2</th>\n",
       "      <td>569678</td>\n",
       "      <td>Quase todos os dias</td>\n",
       "      <td>Mais da metade dos dias</td>\n",
       "      <td>Quase todos os dias</td>\n",
       "      <td>Quase todos os dias</td>\n",
       "      <td>Alguns dias</td>\n",
       "      <td>Alguns dias</td>\n",
       "      <td>Alguns dias</td>\n",
       "      <td>2019-09-07</td>\n",
       "      <td>Empresa A</td>\n",
       "    </tr>\n",
       "    <tr>\n",
       "      <th>3</th>\n",
       "      <td>563322</td>\n",
       "      <td>Mais da metade dos dias</td>\n",
       "      <td>Mais da metade dos dias</td>\n",
       "      <td>Quase todos os dias</td>\n",
       "      <td>Mais da metade dos dias</td>\n",
       "      <td>Quase todos os dias</td>\n",
       "      <td>Alguns dias</td>\n",
       "      <td>Quase todos os dias</td>\n",
       "      <td>2019-08-30</td>\n",
       "      <td>Empresa C</td>\n",
       "    </tr>\n",
       "    <tr>\n",
       "      <th>4</th>\n",
       "      <td>563079</td>\n",
       "      <td>Alguns dias</td>\n",
       "      <td>Alguns dias</td>\n",
       "      <td>Alguns dias</td>\n",
       "      <td>Mais da metade dos dias</td>\n",
       "      <td>Alguns dias</td>\n",
       "      <td>Nenhuma vez</td>\n",
       "      <td>Alguns dias</td>\n",
       "      <td>2019-08-29</td>\n",
       "      <td>Empresa B</td>\n",
       "    </tr>\n",
       "  </tbody>\n",
       "</table>\n",
       "</div>"
      ],
      "text/plain": [
       "       Id        Nervosa ou Tensa? Consegue controlar as preocupações?  \\\n",
       "0  561621              Alguns dias                         Alguns dias   \n",
       "1  569493      Quase todos os dias             Mais da metade dos dias   \n",
       "2  569678      Quase todos os dias             Mais da metade dos dias   \n",
       "3  563322  Mais da metade dos dias             Mais da metade dos dias   \n",
       "4  563079              Alguns dias                         Alguns dias   \n",
       "\n",
       "  Se preocupou demais? Dificuldades para Relaxar?     Aborrecida ou Tensa?  \\\n",
       "0          Alguns dias    Mais da metade dos dias  Mais da metade dos dias   \n",
       "1          Alguns dias    Mais da metade dos dias              Alguns dias   \n",
       "2  Quase todos os dias        Quase todos os dias              Alguns dias   \n",
       "3  Quase todos os dias    Mais da metade dos dias      Quase todos os dias   \n",
       "4          Alguns dias    Mais da metade dos dias              Alguns dias   \n",
       "\n",
       "  Ficou Agitada? Possui algum Medo Grande? Data da Resposta Nome da Empresa  \n",
       "0    Alguns dias               Alguns dias       2019-08-28       Empresa A  \n",
       "1    Alguns dias               Alguns dias       2019-09-07       Empresa B  \n",
       "2    Alguns dias               Alguns dias       2019-09-07       Empresa A  \n",
       "3    Alguns dias       Quase todos os dias       2019-08-30       Empresa C  \n",
       "4    Nenhuma vez               Alguns dias       2019-08-29       Empresa B  "
      ]
     },
     "execution_count": 12,
     "metadata": {},
     "output_type": "execute_result"
    }
   ],
   "source": [
    "df_inicio.head()"
   ]
  },
  {
   "cell_type": "code",
   "execution_count": null,
   "id": "7215f4f9",
   "metadata": {},
   "outputs": [],
   "source": []
  },
  {
   "cell_type": "markdown",
   "id": "ce6f7482",
   "metadata": {},
   "source": [
    "### Conhecendo dados sobre o 2º formulário"
   ]
  },
  {
   "cell_type": "code",
   "execution_count": 13,
   "id": "c61a6e37",
   "metadata": {},
   "outputs": [
    {
     "data": {
      "text/html": [
       "<div>\n",
       "<style scoped>\n",
       "    .dataframe tbody tr th:only-of-type {\n",
       "        vertical-align: middle;\n",
       "    }\n",
       "\n",
       "    .dataframe tbody tr th {\n",
       "        vertical-align: top;\n",
       "    }\n",
       "\n",
       "    .dataframe thead th {\n",
       "        text-align: right;\n",
       "    }\n",
       "</style>\n",
       "<table border=\"1\" class=\"dataframe\">\n",
       "  <thead>\n",
       "    <tr style=\"text-align: right;\">\n",
       "      <th></th>\n",
       "      <th>coluna</th>\n",
       "      <th>tipo</th>\n",
       "      <th>qtd_nulo</th>\n",
       "      <th>percent_nulo</th>\n",
       "    </tr>\n",
       "  </thead>\n",
       "  <tbody>\n",
       "    <tr>\n",
       "      <th>id</th>\n",
       "      <td>id</td>\n",
       "      <td>int64</td>\n",
       "      <td>0</td>\n",
       "      <td>0.0</td>\n",
       "    </tr>\n",
       "    <tr>\n",
       "      <th>Nervosa ou Tensa?</th>\n",
       "      <td>Nervosa ou Tensa?</td>\n",
       "      <td>int64</td>\n",
       "      <td>0</td>\n",
       "      <td>0.0</td>\n",
       "    </tr>\n",
       "    <tr>\n",
       "      <th>Consegue controlar as preocupações?</th>\n",
       "      <td>Consegue controlar as preocupações?</td>\n",
       "      <td>int64</td>\n",
       "      <td>0</td>\n",
       "      <td>0.0</td>\n",
       "    </tr>\n",
       "    <tr>\n",
       "      <th>Se preocupou demais?</th>\n",
       "      <td>Se preocupou demais?</td>\n",
       "      <td>int64</td>\n",
       "      <td>0</td>\n",
       "      <td>0.0</td>\n",
       "    </tr>\n",
       "    <tr>\n",
       "      <th>Dificuldades para Relaxar?</th>\n",
       "      <td>Dificuldades para Relaxar?</td>\n",
       "      <td>int64</td>\n",
       "      <td>0</td>\n",
       "      <td>0.0</td>\n",
       "    </tr>\n",
       "    <tr>\n",
       "      <th>Aborrecida ou Tensa?</th>\n",
       "      <td>Aborrecida ou Tensa?</td>\n",
       "      <td>int64</td>\n",
       "      <td>0</td>\n",
       "      <td>0.0</td>\n",
       "    </tr>\n",
       "    <tr>\n",
       "      <th>Ficou Agitada?</th>\n",
       "      <td>Ficou Agitada?</td>\n",
       "      <td>int64</td>\n",
       "      <td>0</td>\n",
       "      <td>0.0</td>\n",
       "    </tr>\n",
       "    <tr>\n",
       "      <th>Possui algum Medo Grande?</th>\n",
       "      <td>Possui algum Medo Grande?</td>\n",
       "      <td>int64</td>\n",
       "      <td>0</td>\n",
       "      <td>0.0</td>\n",
       "    </tr>\n",
       "    <tr>\n",
       "      <th>Data da Resposta do Checkup</th>\n",
       "      <td>Data da Resposta do Checkup</td>\n",
       "      <td>object</td>\n",
       "      <td>0</td>\n",
       "      <td>0.0</td>\n",
       "    </tr>\n",
       "    <tr>\n",
       "      <th>Nome da Empresa</th>\n",
       "      <td>Nome da Empresa</td>\n",
       "      <td>object</td>\n",
       "      <td>0</td>\n",
       "      <td>0.0</td>\n",
       "    </tr>\n",
       "    <tr>\n",
       "      <th>Número de Interações no aplicativo</th>\n",
       "      <td>Número de Interações no aplicativo</td>\n",
       "      <td>int32</td>\n",
       "      <td>0</td>\n",
       "      <td>0.0</td>\n",
       "    </tr>\n",
       "    <tr>\n",
       "      <th>Tempo Gasto no Aplicativo (Em Segundos)</th>\n",
       "      <td>Tempo Gasto no Aplicativo (Em Segundos)</td>\n",
       "      <td>float64</td>\n",
       "      <td>0</td>\n",
       "      <td>0.0</td>\n",
       "    </tr>\n",
       "    <tr>\n",
       "      <th>Conversa Extra Favorita</th>\n",
       "      <td>Conversa Extra Favorita</td>\n",
       "      <td>object</td>\n",
       "      <td>0</td>\n",
       "      <td>0.0</td>\n",
       "    </tr>\n",
       "  </tbody>\n",
       "</table>\n",
       "</div>"
      ],
      "text/plain": [
       "                                                                          coluna  \\\n",
       "id                                                                            id   \n",
       "Nervosa ou Tensa?                                              Nervosa ou Tensa?   \n",
       "Consegue controlar as preocupações?          Consegue controlar as preocupações?   \n",
       "Se preocupou demais?                                        Se preocupou demais?   \n",
       "Dificuldades para Relaxar?                            Dificuldades para Relaxar?   \n",
       "Aborrecida ou Tensa?                                        Aborrecida ou Tensa?   \n",
       "Ficou Agitada?                                                    Ficou Agitada?   \n",
       "Possui algum Medo Grande?                              Possui algum Medo Grande?   \n",
       "Data da Resposta do Checkup                          Data da Resposta do Checkup   \n",
       "Nome da Empresa                                                  Nome da Empresa   \n",
       "Número de Interações no aplicativo            Número de Interações no aplicativo   \n",
       "Tempo Gasto no Aplicativo (Em Segundos)  Tempo Gasto no Aplicativo (Em Segundos)   \n",
       "Conversa Extra Favorita                                  Conversa Extra Favorita   \n",
       "\n",
       "                                            tipo  qtd_nulo  percent_nulo  \n",
       "id                                         int64         0           0.0  \n",
       "Nervosa ou Tensa?                          int64         0           0.0  \n",
       "Consegue controlar as preocupações?        int64         0           0.0  \n",
       "Se preocupou demais?                       int64         0           0.0  \n",
       "Dificuldades para Relaxar?                 int64         0           0.0  \n",
       "Aborrecida ou Tensa?                       int64         0           0.0  \n",
       "Ficou Agitada?                             int64         0           0.0  \n",
       "Possui algum Medo Grande?                  int64         0           0.0  \n",
       "Data da Resposta do Checkup               object         0           0.0  \n",
       "Nome da Empresa                           object         0           0.0  \n",
       "Número de Interações no aplicativo         int32         0           0.0  \n",
       "Tempo Gasto no Aplicativo (Em Segundos)  float64         0           0.0  \n",
       "Conversa Extra Favorita                   object         0           0.0  "
      ]
     },
     "execution_count": 13,
     "metadata": {},
     "output_type": "execute_result"
    }
   ],
   "source": [
    "eda(df_fim)"
   ]
  },
  {
   "cell_type": "code",
   "execution_count": 14,
   "id": "e52295c4",
   "metadata": {},
   "outputs": [
    {
     "data": {
      "text/html": [
       "<div>\n",
       "<style scoped>\n",
       "    .dataframe tbody tr th:only-of-type {\n",
       "        vertical-align: middle;\n",
       "    }\n",
       "\n",
       "    .dataframe tbody tr th {\n",
       "        vertical-align: top;\n",
       "    }\n",
       "\n",
       "    .dataframe thead th {\n",
       "        text-align: right;\n",
       "    }\n",
       "</style>\n",
       "<table border=\"1\" class=\"dataframe\">\n",
       "  <thead>\n",
       "    <tr style=\"text-align: right;\">\n",
       "      <th></th>\n",
       "      <th>id</th>\n",
       "      <th>Nervosa ou Tensa?</th>\n",
       "      <th>Consegue controlar as preocupações?</th>\n",
       "      <th>Se preocupou demais?</th>\n",
       "      <th>Dificuldades para Relaxar?</th>\n",
       "      <th>Aborrecida ou Tensa?</th>\n",
       "      <th>Ficou Agitada?</th>\n",
       "      <th>Possui algum Medo Grande?</th>\n",
       "      <th>Data da Resposta do Checkup</th>\n",
       "      <th>Nome da Empresa</th>\n",
       "      <th>Número de Interações no aplicativo</th>\n",
       "      <th>Tempo Gasto no Aplicativo (Em Segundos)</th>\n",
       "      <th>Conversa Extra Favorita</th>\n",
       "    </tr>\n",
       "  </thead>\n",
       "  <tbody>\n",
       "    <tr>\n",
       "      <th>0</th>\n",
       "      <td>562568</td>\n",
       "      <td>1</td>\n",
       "      <td>1</td>\n",
       "      <td>0</td>\n",
       "      <td>0</td>\n",
       "      <td>1</td>\n",
       "      <td>0</td>\n",
       "      <td>0</td>\n",
       "      <td>2019-09-18</td>\n",
       "      <td>Empresa C</td>\n",
       "      <td>133</td>\n",
       "      <td>1998.173317</td>\n",
       "      <td>Conversas extras (app) - Bullying na adolescência</td>\n",
       "    </tr>\n",
       "    <tr>\n",
       "      <th>1</th>\n",
       "      <td>518658</td>\n",
       "      <td>1</td>\n",
       "      <td>0</td>\n",
       "      <td>1</td>\n",
       "      <td>0</td>\n",
       "      <td>1</td>\n",
       "      <td>0</td>\n",
       "      <td>0</td>\n",
       "      <td>2019-07-15</td>\n",
       "      <td>Empresa A</td>\n",
       "      <td>262</td>\n",
       "      <td>9726.637748</td>\n",
       "      <td>[COVID-19] Conversas extras (app) - Pensamento...</td>\n",
       "    </tr>\n",
       "    <tr>\n",
       "      <th>2</th>\n",
       "      <td>583627</td>\n",
       "      <td>1</td>\n",
       "      <td>1</td>\n",
       "      <td>2</td>\n",
       "      <td>0</td>\n",
       "      <td>1</td>\n",
       "      <td>0</td>\n",
       "      <td>1</td>\n",
       "      <td>2019-10-01</td>\n",
       "      <td>Empresa A</td>\n",
       "      <td>605</td>\n",
       "      <td>8522.685052</td>\n",
       "      <td>Conversas extras (app) - Focar nos sons</td>\n",
       "    </tr>\n",
       "    <tr>\n",
       "      <th>3</th>\n",
       "      <td>583695</td>\n",
       "      <td>0</td>\n",
       "      <td>0</td>\n",
       "      <td>1</td>\n",
       "      <td>0</td>\n",
       "      <td>0</td>\n",
       "      <td>0</td>\n",
       "      <td>0</td>\n",
       "      <td>2019-10-01</td>\n",
       "      <td>Empresa B</td>\n",
       "      <td>509</td>\n",
       "      <td>6972.538464</td>\n",
       "      <td>Conversas extras (app) - Decifrando o trauma e...</td>\n",
       "    </tr>\n",
       "    <tr>\n",
       "      <th>4</th>\n",
       "      <td>569163</td>\n",
       "      <td>1</td>\n",
       "      <td>0</td>\n",
       "      <td>1</td>\n",
       "      <td>0</td>\n",
       "      <td>0</td>\n",
       "      <td>0</td>\n",
       "      <td>0</td>\n",
       "      <td>2019-09-28</td>\n",
       "      <td>Empresa A</td>\n",
       "      <td>476</td>\n",
       "      <td>22375.222991</td>\n",
       "      <td>Conversas extras (app) - Estou doente?</td>\n",
       "    </tr>\n",
       "  </tbody>\n",
       "</table>\n",
       "</div>"
      ],
      "text/plain": [
       "       id  Nervosa ou Tensa?  Consegue controlar as preocupações?  \\\n",
       "0  562568                  1                                    1   \n",
       "1  518658                  1                                    0   \n",
       "2  583627                  1                                    1   \n",
       "3  583695                  0                                    0   \n",
       "4  569163                  1                                    0   \n",
       "\n",
       "   Se preocupou demais?  Dificuldades para Relaxar?  Aborrecida ou Tensa?  \\\n",
       "0                     0                           0                     1   \n",
       "1                     1                           0                     1   \n",
       "2                     2                           0                     1   \n",
       "3                     1                           0                     0   \n",
       "4                     1                           0                     0   \n",
       "\n",
       "   Ficou Agitada?  Possui algum Medo Grande? Data da Resposta do Checkup  \\\n",
       "0               0                          0                  2019-09-18   \n",
       "1               0                          0                  2019-07-15   \n",
       "2               0                          1                  2019-10-01   \n",
       "3               0                          0                  2019-10-01   \n",
       "4               0                          0                  2019-09-28   \n",
       "\n",
       "  Nome da Empresa  Número de Interações no aplicativo  \\\n",
       "0       Empresa C                                 133   \n",
       "1       Empresa A                                 262   \n",
       "2       Empresa A                                 605   \n",
       "3       Empresa B                                 509   \n",
       "4       Empresa A                                 476   \n",
       "\n",
       "   Tempo Gasto no Aplicativo (Em Segundos)  \\\n",
       "0                              1998.173317   \n",
       "1                              9726.637748   \n",
       "2                              8522.685052   \n",
       "3                              6972.538464   \n",
       "4                             22375.222991   \n",
       "\n",
       "                             Conversa Extra Favorita  \n",
       "0  Conversas extras (app) - Bullying na adolescência  \n",
       "1  [COVID-19] Conversas extras (app) - Pensamento...  \n",
       "2            Conversas extras (app) - Focar nos sons  \n",
       "3  Conversas extras (app) - Decifrando o trauma e...  \n",
       "4             Conversas extras (app) - Estou doente?  "
      ]
     },
     "execution_count": 14,
     "metadata": {},
     "output_type": "execute_result"
    }
   ],
   "source": [
    "df_fim.head()"
   ]
  },
  {
   "cell_type": "code",
   "execution_count": 15,
   "id": "bb1fea98",
   "metadata": {
    "scrolled": true
   },
   "outputs": [
    {
     "data": {
      "text/plain": [
       "id                                         1649\n",
       "Nervosa ou Tensa?                             4\n",
       "Consegue controlar as preocupações?           4\n",
       "Se preocupou demais?                          4\n",
       "Dificuldades para Relaxar?                    4\n",
       "Aborrecida ou Tensa?                          4\n",
       "Ficou Agitada?                                4\n",
       "Possui algum Medo Grande?                     4\n",
       "Data da Resposta do Checkup                 189\n",
       "Nome da Empresa                               3\n",
       "Número de Interações no aplicativo          747\n",
       "Tempo Gasto no Aplicativo (Em Segundos)    1649\n",
       "Conversa Extra Favorita                      37\n",
       "dtype: int64"
      ]
     },
     "execution_count": 15,
     "metadata": {},
     "output_type": "execute_result"
    }
   ],
   "source": [
    "df_fim.nunique()"
   ]
  },
  {
   "cell_type": "code",
   "execution_count": 16,
   "id": "44ddf367",
   "metadata": {
    "scrolled": true
   },
   "outputs": [
    {
     "name": "stdout",
     "output_type": "stream",
     "text": [
      "<class 'pandas.core.frame.DataFrame'>\n",
      "RangeIndex: 1649 entries, 0 to 1648\n",
      "Data columns (total 13 columns):\n",
      " #   Column                                   Non-Null Count  Dtype  \n",
      "---  ------                                   --------------  -----  \n",
      " 0   id                                       1649 non-null   int64  \n",
      " 1   Nervosa ou Tensa?                        1649 non-null   int64  \n",
      " 2   Consegue controlar as preocupações?      1649 non-null   int64  \n",
      " 3   Se preocupou demais?                     1649 non-null   int64  \n",
      " 4   Dificuldades para Relaxar?               1649 non-null   int64  \n",
      " 5   Aborrecida ou Tensa?                     1649 non-null   int64  \n",
      " 6   Ficou Agitada?                           1649 non-null   int64  \n",
      " 7   Possui algum Medo Grande?                1649 non-null   int64  \n",
      " 8   Data da Resposta do Checkup              1649 non-null   object \n",
      " 9   Nome da Empresa                          1649 non-null   object \n",
      " 10  Número de Interações no aplicativo       1649 non-null   int32  \n",
      " 11  Tempo Gasto no Aplicativo (Em Segundos)  1649 non-null   float64\n",
      " 12  Conversa Extra Favorita                  1649 non-null   object \n",
      "dtypes: float64(1), int32(1), int64(8), object(3)\n",
      "memory usage: 161.2+ KB\n"
     ]
    }
   ],
   "source": [
    "df_fim.info()"
   ]
  },
  {
   "cell_type": "markdown",
   "id": "e7c0cca7",
   "metadata": {},
   "source": [
    "### Alterando tipo de dados"
   ]
  },
  {
   "cell_type": "code",
   "execution_count": 17,
   "id": "85fa4b3c",
   "metadata": {},
   "outputs": [],
   "source": [
    "df_fim = df_fim.astype({\n",
    "    'Nervosa ou Tensa?' : 'object',\n",
    "    'Consegue controlar as preocupações?' : 'object', \n",
    "    'Se preocupou demais?' : 'object',\n",
    "    'Dificuldades para Relaxar?' : 'object',\n",
    "    'Aborrecida ou Tensa?' : 'object',\n",
    "    'Ficou Agitada?' : 'object',\n",
    "    'Possui algum Medo Grande?' : 'object'\n",
    "})"
   ]
  },
  {
   "cell_type": "markdown",
   "id": "10225a68",
   "metadata": {},
   "source": [
    "### Alterando valores números para strings"
   ]
  },
  {
   "cell_type": "code",
   "execution_count": 18,
   "id": "6210990e",
   "metadata": {},
   "outputs": [],
   "source": [
    "def trocar_valores(df, nome_coluna):\n",
    "    df.loc[(df[nome_coluna] == 0), nome_coluna] = 'Nenhuma vez'\n",
    "    df.loc[(df[nome_coluna] == 1), nome_coluna] = 'Alguns dias'\n",
    "    df.loc[(df[nome_coluna] == 2), nome_coluna] = 'Mais da metade dos dias'\n",
    "    df.loc[(df[nome_coluna] == 3), nome_coluna] = 'Quase todos os dias'"
   ]
  },
  {
   "cell_type": "code",
   "execution_count": 19,
   "id": "6fb185a3",
   "metadata": {},
   "outputs": [],
   "source": [
    "trocar_valores(df_fim, 'Nervosa ou Tensa?')\n",
    "trocar_valores(df_fim, 'Consegue controlar as preocupações?')\n",
    "trocar_valores(df_fim, 'Se preocupou demais?')\n",
    "trocar_valores(df_fim, 'Dificuldades para Relaxar?')\n",
    "trocar_valores(df_fim, 'Aborrecida ou Tensa?')\n",
    "trocar_valores(df_fim, 'Ficou Agitada?')\n",
    "trocar_valores(df_fim, 'Possui algum Medo Grande?')"
   ]
  },
  {
   "cell_type": "code",
   "execution_count": 20,
   "id": "a03ca788",
   "metadata": {},
   "outputs": [],
   "source": [
    "df_fim['Tempo Gasto no Aplicativo (Em Segundos)'] = df_fim['Tempo Gasto no Aplicativo (Em Segundos)'] / 60\n",
    "df_fim.rename(columns={'Tempo Gasto no Aplicativo (Em Segundos)' : 'Tempo Gasto no Aplicativo (Em Minutos)'}, inplace=True)"
   ]
  },
  {
   "cell_type": "code",
   "execution_count": 21,
   "id": "27766403",
   "metadata": {},
   "outputs": [
    {
     "data": {
      "text/html": [
       "<div>\n",
       "<style scoped>\n",
       "    .dataframe tbody tr th:only-of-type {\n",
       "        vertical-align: middle;\n",
       "    }\n",
       "\n",
       "    .dataframe tbody tr th {\n",
       "        vertical-align: top;\n",
       "    }\n",
       "\n",
       "    .dataframe thead th {\n",
       "        text-align: right;\n",
       "    }\n",
       "</style>\n",
       "<table border=\"1\" class=\"dataframe\">\n",
       "  <thead>\n",
       "    <tr style=\"text-align: right;\">\n",
       "      <th></th>\n",
       "      <th>id</th>\n",
       "      <th>Nervosa ou Tensa?</th>\n",
       "      <th>Consegue controlar as preocupações?</th>\n",
       "      <th>Se preocupou demais?</th>\n",
       "      <th>Dificuldades para Relaxar?</th>\n",
       "      <th>Aborrecida ou Tensa?</th>\n",
       "      <th>Ficou Agitada?</th>\n",
       "      <th>Possui algum Medo Grande?</th>\n",
       "      <th>Data da Resposta do Checkup</th>\n",
       "      <th>Nome da Empresa</th>\n",
       "      <th>Número de Interações no aplicativo</th>\n",
       "      <th>Tempo Gasto no Aplicativo (Em Minutos)</th>\n",
       "      <th>Conversa Extra Favorita</th>\n",
       "    </tr>\n",
       "  </thead>\n",
       "  <tbody>\n",
       "    <tr>\n",
       "      <th>0</th>\n",
       "      <td>562568</td>\n",
       "      <td>Alguns dias</td>\n",
       "      <td>Alguns dias</td>\n",
       "      <td>Nenhuma vez</td>\n",
       "      <td>Nenhuma vez</td>\n",
       "      <td>Alguns dias</td>\n",
       "      <td>Nenhuma vez</td>\n",
       "      <td>Nenhuma vez</td>\n",
       "      <td>2019-09-18</td>\n",
       "      <td>Empresa C</td>\n",
       "      <td>133</td>\n",
       "      <td>33.302889</td>\n",
       "      <td>Conversas extras (app) - Bullying na adolescência</td>\n",
       "    </tr>\n",
       "    <tr>\n",
       "      <th>1</th>\n",
       "      <td>518658</td>\n",
       "      <td>Alguns dias</td>\n",
       "      <td>Nenhuma vez</td>\n",
       "      <td>Alguns dias</td>\n",
       "      <td>Nenhuma vez</td>\n",
       "      <td>Alguns dias</td>\n",
       "      <td>Nenhuma vez</td>\n",
       "      <td>Nenhuma vez</td>\n",
       "      <td>2019-07-15</td>\n",
       "      <td>Empresa A</td>\n",
       "      <td>262</td>\n",
       "      <td>162.110629</td>\n",
       "      <td>[COVID-19] Conversas extras (app) - Pensamento...</td>\n",
       "    </tr>\n",
       "    <tr>\n",
       "      <th>2</th>\n",
       "      <td>583627</td>\n",
       "      <td>Alguns dias</td>\n",
       "      <td>Alguns dias</td>\n",
       "      <td>Mais da metade dos dias</td>\n",
       "      <td>Nenhuma vez</td>\n",
       "      <td>Alguns dias</td>\n",
       "      <td>Nenhuma vez</td>\n",
       "      <td>Alguns dias</td>\n",
       "      <td>2019-10-01</td>\n",
       "      <td>Empresa A</td>\n",
       "      <td>605</td>\n",
       "      <td>142.044751</td>\n",
       "      <td>Conversas extras (app) - Focar nos sons</td>\n",
       "    </tr>\n",
       "    <tr>\n",
       "      <th>3</th>\n",
       "      <td>583695</td>\n",
       "      <td>Nenhuma vez</td>\n",
       "      <td>Nenhuma vez</td>\n",
       "      <td>Alguns dias</td>\n",
       "      <td>Nenhuma vez</td>\n",
       "      <td>Nenhuma vez</td>\n",
       "      <td>Nenhuma vez</td>\n",
       "      <td>Nenhuma vez</td>\n",
       "      <td>2019-10-01</td>\n",
       "      <td>Empresa B</td>\n",
       "      <td>509</td>\n",
       "      <td>116.208974</td>\n",
       "      <td>Conversas extras (app) - Decifrando o trauma e...</td>\n",
       "    </tr>\n",
       "    <tr>\n",
       "      <th>4</th>\n",
       "      <td>569163</td>\n",
       "      <td>Alguns dias</td>\n",
       "      <td>Nenhuma vez</td>\n",
       "      <td>Alguns dias</td>\n",
       "      <td>Nenhuma vez</td>\n",
       "      <td>Nenhuma vez</td>\n",
       "      <td>Nenhuma vez</td>\n",
       "      <td>Nenhuma vez</td>\n",
       "      <td>2019-09-28</td>\n",
       "      <td>Empresa A</td>\n",
       "      <td>476</td>\n",
       "      <td>372.920383</td>\n",
       "      <td>Conversas extras (app) - Estou doente?</td>\n",
       "    </tr>\n",
       "  </tbody>\n",
       "</table>\n",
       "</div>"
      ],
      "text/plain": [
       "       id Nervosa ou Tensa? Consegue controlar as preocupações?  \\\n",
       "0  562568       Alguns dias                         Alguns dias   \n",
       "1  518658       Alguns dias                         Nenhuma vez   \n",
       "2  583627       Alguns dias                         Alguns dias   \n",
       "3  583695       Nenhuma vez                         Nenhuma vez   \n",
       "4  569163       Alguns dias                         Nenhuma vez   \n",
       "\n",
       "      Se preocupou demais? Dificuldades para Relaxar? Aborrecida ou Tensa?  \\\n",
       "0              Nenhuma vez                Nenhuma vez          Alguns dias   \n",
       "1              Alguns dias                Nenhuma vez          Alguns dias   \n",
       "2  Mais da metade dos dias                Nenhuma vez          Alguns dias   \n",
       "3              Alguns dias                Nenhuma vez          Nenhuma vez   \n",
       "4              Alguns dias                Nenhuma vez          Nenhuma vez   \n",
       "\n",
       "  Ficou Agitada? Possui algum Medo Grande? Data da Resposta do Checkup  \\\n",
       "0    Nenhuma vez               Nenhuma vez                  2019-09-18   \n",
       "1    Nenhuma vez               Nenhuma vez                  2019-07-15   \n",
       "2    Nenhuma vez               Alguns dias                  2019-10-01   \n",
       "3    Nenhuma vez               Nenhuma vez                  2019-10-01   \n",
       "4    Nenhuma vez               Nenhuma vez                  2019-09-28   \n",
       "\n",
       "  Nome da Empresa  Número de Interações no aplicativo  \\\n",
       "0       Empresa C                                 133   \n",
       "1       Empresa A                                 262   \n",
       "2       Empresa A                                 605   \n",
       "3       Empresa B                                 509   \n",
       "4       Empresa A                                 476   \n",
       "\n",
       "   Tempo Gasto no Aplicativo (Em Minutos)  \\\n",
       "0                               33.302889   \n",
       "1                              162.110629   \n",
       "2                              142.044751   \n",
       "3                              116.208974   \n",
       "4                              372.920383   \n",
       "\n",
       "                             Conversa Extra Favorita  \n",
       "0  Conversas extras (app) - Bullying na adolescência  \n",
       "1  [COVID-19] Conversas extras (app) - Pensamento...  \n",
       "2            Conversas extras (app) - Focar nos sons  \n",
       "3  Conversas extras (app) - Decifrando o trauma e...  \n",
       "4             Conversas extras (app) - Estou doente?  "
      ]
     },
     "execution_count": 21,
     "metadata": {},
     "output_type": "execute_result"
    }
   ],
   "source": [
    "df_fim.head()"
   ]
  },
  {
   "cell_type": "markdown",
   "id": "28462aaa",
   "metadata": {},
   "source": [
    "### Removendo partipantes que não estão nos dois formulários"
   ]
  },
  {
   "cell_type": "markdown",
   "id": "4d61197a",
   "metadata": {},
   "source": [
    "#### Criando array numpy dos identificadores unicos de cada formulário"
   ]
  },
  {
   "cell_type": "code",
   "execution_count": 22,
   "id": "d8dc4ae9",
   "metadata": {},
   "outputs": [],
   "source": [
    "arr_id_fim = df_fim.id.unique()\n",
    "arr_id_inicio = df_inicio.Id.unique()"
   ]
  },
  {
   "cell_type": "markdown",
   "id": "4ddc77cd",
   "metadata": {},
   "source": [
    "#### Comparando qual id está em um formulário mas que não está no outro"
   ]
  },
  {
   "cell_type": "code",
   "execution_count": 23,
   "id": "9dac3274",
   "metadata": {},
   "outputs": [],
   "source": [
    "inicio_index = df_inicio[~df_inicio['Id'].isin(arr_id_fim)].index"
   ]
  },
  {
   "cell_type": "code",
   "execution_count": 24,
   "id": "8ade4934",
   "metadata": {},
   "outputs": [],
   "source": [
    "fim_index = df_fim[~df_fim['id'].isin(arr_id_inicio)].index"
   ]
  },
  {
   "cell_type": "code",
   "execution_count": 25,
   "id": "d67f7b29",
   "metadata": {},
   "outputs": [
    {
     "data": {
      "text/plain": [
       "1649"
      ]
     },
     "execution_count": 25,
     "metadata": {},
     "output_type": "execute_result"
    }
   ],
   "source": [
    "df_inicio.Id.nunique()"
   ]
  },
  {
   "cell_type": "code",
   "execution_count": 26,
   "id": "0b61c1d9",
   "metadata": {
    "scrolled": true
   },
   "outputs": [
    {
     "data": {
      "text/plain": [
       "1649"
      ]
     },
     "execution_count": 26,
     "metadata": {},
     "output_type": "execute_result"
    }
   ],
   "source": [
    "df_fim.id.nunique()"
   ]
  },
  {
   "cell_type": "markdown",
   "id": "8df65199",
   "metadata": {},
   "source": [
    "#### Excluindo"
   ]
  },
  {
   "cell_type": "code",
   "execution_count": 27,
   "id": "d11840ed",
   "metadata": {},
   "outputs": [],
   "source": [
    "df_inicio.drop(inicio_index, inplace=True)"
   ]
  },
  {
   "cell_type": "code",
   "execution_count": 28,
   "id": "2f552268",
   "metadata": {},
   "outputs": [],
   "source": [
    "df_fim.drop(fim_index, inplace=True)"
   ]
  },
  {
   "cell_type": "code",
   "execution_count": 29,
   "id": "168a3a15",
   "metadata": {},
   "outputs": [
    {
     "data": {
      "text/plain": [
       "1648"
      ]
     },
     "execution_count": 29,
     "metadata": {},
     "output_type": "execute_result"
    }
   ],
   "source": [
    "df_inicio.Id.nunique()"
   ]
  },
  {
   "cell_type": "code",
   "execution_count": 30,
   "id": "891e233c",
   "metadata": {
    "scrolled": true
   },
   "outputs": [
    {
     "data": {
      "text/plain": [
       "1648"
      ]
     },
     "execution_count": 30,
     "metadata": {},
     "output_type": "execute_result"
    }
   ],
   "source": [
    "df_fim.id.nunique()"
   ]
  },
  {
   "cell_type": "markdown",
   "id": "5ca12b53",
   "metadata": {},
   "source": [
    "---------------------------------------"
   ]
  },
  {
   "cell_type": "code",
   "execution_count": 31,
   "id": "45976ad0",
   "metadata": {},
   "outputs": [],
   "source": [
    "categorias = ['Nenhuma vez', 'Alguns dias', 'Mais da metade dos dias', 'Quase todos os dias']"
   ]
  },
  {
   "cell_type": "code",
   "execution_count": 195,
   "id": "3b051b4a",
   "metadata": {},
   "outputs": [
    {
     "data": {
      "text/html": [
       "\n",
       "        <iframe\n",
       "            width=\"100%\"\n",
       "            height=\"525px\"\n",
       "            src=\"https://plotly.com/~arthurogerio/1.embed\"\n",
       "            frameborder=\"0\"\n",
       "            allowfullscreen\n",
       "        ></iframe>\n",
       "        "
      ],
      "text/plain": [
       "<IPython.lib.display.IFrame at 0x2247fe88070>"
      ]
     },
     "execution_count": 195,
     "metadata": {},
     "output_type": "execute_result"
    }
   ],
   "source": [
    "fig = go.Figure(data=[\n",
    "    go.Bar(name='Início',\n",
    "           x=categorias, y=df_inicio['Nervosa ou Tensa?'].value_counts()[categorias]),\n",
    "    \n",
    "    go.Bar(name='Fim',\n",
    "          x=categorias, y=df_fim['Nervosa ou Tensa?'].value_counts()[categorias])\n",
    "])\n",
    "\n",
    "\n",
    "\n",
    "fig.update_layout(barmode='group', title_text='Comparando respostas - Nervosa ou Tensa?')\n",
    "#fig.show()\n",
    "py.iplot(fig, filename = 'comparando-resposta-n-t')"
   ]
  },
  {
   "cell_type": "code",
   "execution_count": 196,
   "id": "e21d1faa",
   "metadata": {},
   "outputs": [
    {
     "data": {
      "text/html": [
       "\n",
       "        <iframe\n",
       "            width=\"100%\"\n",
       "            height=\"525px\"\n",
       "            src=\"https://plotly.com/~arthurogerio/4.embed\"\n",
       "            frameborder=\"0\"\n",
       "            allowfullscreen\n",
       "        ></iframe>\n",
       "        "
      ],
      "text/plain": [
       "<IPython.lib.display.IFrame at 0x2247f70fdc0>"
      ]
     },
     "execution_count": 196,
     "metadata": {},
     "output_type": "execute_result"
    }
   ],
   "source": [
    "fig = go.Figure(data=[\n",
    "    go.Bar(name='Início',\n",
    "           x=categorias,\n",
    "           y=df_inicio['Consegue controlar as preocupações?'].value_counts()[categorias]),\n",
    "    \n",
    "    go.Bar(name='Fim',\n",
    "          x=categorias,\n",
    "           y=df_fim['Consegue controlar as preocupações?'].value_counts()[categorias])\n",
    "])\n",
    "\n",
    "\n",
    "\n",
    "fig.update_layout(barmode='group', title_text='Comparando respostas - Consegue controlar as preocupações?')\n",
    "#fig.show()\n",
    "py.iplot(fig, filename = 'comparando-resposta-control-preo')"
   ]
  },
  {
   "cell_type": "code",
   "execution_count": 208,
   "id": "8b4df48a",
   "metadata": {},
   "outputs": [
    {
     "data": {
      "text/html": [
       "\n",
       "        <iframe\n",
       "            width=\"100%\"\n",
       "            height=\"525px\"\n",
       "            src=\"https://plotly.com/~arthurogerio/28.embed\"\n",
       "            frameborder=\"0\"\n",
       "            allowfullscreen\n",
       "        ></iframe>\n",
       "        "
      ],
      "text/plain": [
       "<IPython.lib.display.IFrame at 0x2247ea9e910>"
      ]
     },
     "execution_count": 208,
     "metadata": {},
     "output_type": "execute_result"
    }
   ],
   "source": [
    "fig = go.Figure(data=[\n",
    "    go.Bar(name='Início',\n",
    "           x=categorias,\n",
    "           y=df_inicio['Se preocupou demais?'].value_counts()[categorias]),\n",
    "    \n",
    "    go.Bar(name='Fim',\n",
    "          x=categorias,\n",
    "           y=df_fim['Se preocupou demais?'].value_counts()[categorias])\n",
    "])\n",
    "\n",
    "\n",
    "\n",
    "fig.update_layout(barmode='group', title_text='Comparando respostas - Se preocupou demais?')\n",
    "#fig.show()\n",
    "py.iplot(fig, filename = 'comparando-resposta-se-preocu')"
   ]
  },
  {
   "cell_type": "code",
   "execution_count": 197,
   "id": "e9a06cef",
   "metadata": {},
   "outputs": [
    {
     "data": {
      "text/html": [
       "\n",
       "        <iframe\n",
       "            width=\"100%\"\n",
       "            height=\"525px\"\n",
       "            src=\"https://plotly.com/~arthurogerio/6.embed\"\n",
       "            frameborder=\"0\"\n",
       "            allowfullscreen\n",
       "        ></iframe>\n",
       "        "
      ],
      "text/plain": [
       "<IPython.lib.display.IFrame at 0x2247a861280>"
      ]
     },
     "execution_count": 197,
     "metadata": {},
     "output_type": "execute_result"
    }
   ],
   "source": [
    "fig = go.Figure(data=[\n",
    "    go.Bar(name='Início',\n",
    "           x=categorias,\n",
    "           y=df_inicio['Dificuldades para Relaxar?'].value_counts()[categorias]),\n",
    "    \n",
    "    go.Bar(name='Fim',\n",
    "          x=categorias,\n",
    "           y=df_fim['Dificuldades para Relaxar?'].value_counts()[categorias])\n",
    "])\n",
    "\n",
    "\n",
    "\n",
    "fig.update_layout(barmode='group', title_text='Comparando respostas - Dificuldades para Relaxar?')\n",
    "#fig.show()\n",
    "py.iplot(fig, filename = 'comparando-resposta-dificuldade-relaxar')"
   ]
  },
  {
   "cell_type": "code",
   "execution_count": 198,
   "id": "0f78191b",
   "metadata": {},
   "outputs": [
    {
     "data": {
      "text/html": [
       "\n",
       "        <iframe\n",
       "            width=\"100%\"\n",
       "            height=\"525px\"\n",
       "            src=\"https://plotly.com/~arthurogerio/8.embed\"\n",
       "            frameborder=\"0\"\n",
       "            allowfullscreen\n",
       "        ></iframe>\n",
       "        "
      ],
      "text/plain": [
       "<IPython.lib.display.IFrame at 0x22400090250>"
      ]
     },
     "execution_count": 198,
     "metadata": {},
     "output_type": "execute_result"
    }
   ],
   "source": [
    "fig = go.Figure(data=[\n",
    "    go.Bar(name='Início',\n",
    "           x=categorias,\n",
    "           y=df_inicio['Aborrecida ou Tensa?'].value_counts()[categorias]),\n",
    "    \n",
    "    go.Bar(name='Fim',\n",
    "          x=categorias,\n",
    "           y=df_fim['Aborrecida ou Tensa?'].value_counts()[categorias])\n",
    "])\n",
    "\n",
    "\n",
    "\n",
    "fig.update_layout(barmode='group', title_text='Comparando respostas - Aborrecida ou Tensa?')\n",
    "#fig.show()\n",
    "py.iplot(fig, filename = 'comparando-resposta-aborr-tensa')"
   ]
  },
  {
   "cell_type": "code",
   "execution_count": 199,
   "id": "7210a68b",
   "metadata": {},
   "outputs": [
    {
     "data": {
      "text/html": [
       "\n",
       "        <iframe\n",
       "            width=\"100%\"\n",
       "            height=\"525px\"\n",
       "            src=\"https://plotly.com/~arthurogerio/10.embed\"\n",
       "            frameborder=\"0\"\n",
       "            allowfullscreen\n",
       "        ></iframe>\n",
       "        "
      ],
      "text/plain": [
       "<IPython.lib.display.IFrame at 0x2247cde85e0>"
      ]
     },
     "execution_count": 199,
     "metadata": {},
     "output_type": "execute_result"
    }
   ],
   "source": [
    "fig = go.Figure(data=[\n",
    "    go.Bar(name='Início',\n",
    "           x=categorias,\n",
    "           y=df_inicio['Possui algum Medo Grande?'].value_counts()[categorias]),\n",
    "    \n",
    "    go.Bar(name='Fim',\n",
    "          x=categorias,\n",
    "           y=df_fim['Possui algum Medo Grande?'].value_counts()[categorias])\n",
    "])\n",
    "\n",
    "\n",
    "\n",
    "fig.update_layout(barmode='group', title_text='Comparando respostas - Possui algum Medo Grande?')\n",
    "#fig.show()\n",
    "py.iplot(fig, filename = 'comparando-resposta-medo')"
   ]
  },
  {
   "cell_type": "markdown",
   "id": "47605e76",
   "metadata": {},
   "source": [
    "## Conversas extras mais solicitadas"
   ]
  },
  {
   "cell_type": "code",
   "execution_count": 140,
   "id": "deffa7eb",
   "metadata": {},
   "outputs": [],
   "source": [
    "top_conversas_extras = df_fim[['Conversa Extra Favorita']].value_counts().head(10).to_frame().reset_index()"
   ]
  },
  {
   "cell_type": "code",
   "execution_count": 141,
   "id": "611aa730",
   "metadata": {},
   "outputs": [],
   "source": [
    "top_conversas_extras.rename(columns={0:'Quantidade'}, inplace=True)"
   ]
  },
  {
   "cell_type": "code",
   "execution_count": 143,
   "id": "2ab50317",
   "metadata": {},
   "outputs": [],
   "source": [
    "top_conversas_extras['Conversa Extra Favorita'] = top_conversas_extras['Conversa Extra Favorita'].str\\\n",
    "                                                                                    .replace('Conversas extras (app) - ',\n",
    "                                                                                    '', regex=False)"
   ]
  },
  {
   "cell_type": "code",
   "execution_count": 200,
   "id": "ee822dd7",
   "metadata": {},
   "outputs": [
    {
     "data": {
      "text/html": [
       "\n",
       "        <iframe\n",
       "            width=\"100%\"\n",
       "            height=\"525px\"\n",
       "            src=\"https://plotly.com/~arthurogerio/12.embed\"\n",
       "            frameborder=\"0\"\n",
       "            allowfullscreen\n",
       "        ></iframe>\n",
       "        "
      ],
      "text/plain": [
       "<IPython.lib.display.IFrame at 0x2247fe88250>"
      ]
     },
     "execution_count": 200,
     "metadata": {},
     "output_type": "execute_result"
    }
   ],
   "source": [
    "fig = px.bar(top_conversas_extras, x='Conversa Extra Favorita', y='Quantidade',\n",
    "            title='Top 10 Conversas Extras Favoritas', labels={'Conversa Extra Favorita':''})\n",
    "\n",
    "#fig.show()\n",
    "py.iplot(fig, filename = 'top10-conversas')"
   ]
  },
  {
   "cell_type": "markdown",
   "id": "1d5162a4",
   "metadata": {},
   "source": [
    "## Participantes mais ativos - Tiveram mais resultados?"
   ]
  },
  {
   "cell_type": "code",
   "execution_count": 67,
   "id": "9aad8529",
   "metadata": {},
   "outputs": [],
   "source": [
    "participantes_mais_ativos = df_fim.sort_values('Tempo Gasto no Aplicativo (Em Minutos)', \n",
    "                                               ascending=False)[['id', 'Tempo Gasto no Aplicativo (Em Minutos)']].head(10)"
   ]
  },
  {
   "cell_type": "code",
   "execution_count": 80,
   "id": "e80dad11",
   "metadata": {},
   "outputs": [],
   "source": [
    "mais_ativos = list(participantes_mais_ativos.id.values)"
   ]
  },
  {
   "cell_type": "code",
   "execution_count": 91,
   "id": "5a2330a7",
   "metadata": {},
   "outputs": [],
   "source": [
    "aux_inicio = df_inicio.query(f'Id == {mais_ativos}')"
   ]
  },
  {
   "cell_type": "code",
   "execution_count": 92,
   "id": "f6bb4de4",
   "metadata": {},
   "outputs": [],
   "source": [
    "aux_fim = df_fim.query(f'id == {mais_ativos}')"
   ]
  },
  {
   "cell_type": "code",
   "execution_count": 201,
   "id": "572d92a5",
   "metadata": {},
   "outputs": [
    {
     "data": {
      "text/html": [
       "\n",
       "        <iframe\n",
       "            width=\"100%\"\n",
       "            height=\"525px\"\n",
       "            src=\"https://plotly.com/~arthurogerio/14.embed\"\n",
       "            frameborder=\"0\"\n",
       "            allowfullscreen\n",
       "        ></iframe>\n",
       "        "
      ],
      "text/plain": [
       "<IPython.lib.display.IFrame at 0x2247edd5e50>"
      ]
     },
     "execution_count": 201,
     "metadata": {},
     "output_type": "execute_result"
    }
   ],
   "source": [
    "fig = make_subplots(rows=1, cols=2, shared_yaxes=True)\n",
    "\n",
    "fig.add_trace(go.Bar(x=aux_inicio['Nervosa ou Tensa?'].value_counts().index,\n",
    "                     y=aux_inicio['Nervosa ou Tensa?'].value_counts().values,\n",
    "                    name='Início'), 1, 1)\n",
    "\n",
    "fig.add_trace(go.Bar(x=aux_fim['Nervosa ou Tensa?'].value_counts().index,\n",
    "                     y=aux_fim['Nervosa ou Tensa?'].value_counts().values,\n",
    "                    name='Fim'),1, 2)\n",
    "\n",
    "fig.update_layout(title_text='Verificando evolução dos participantes (Nervosa ou Tensa?)')\n",
    "\n",
    "#fig.show()\n",
    "py.iplot(fig, filename = 'evolucao-1')"
   ]
  },
  {
   "cell_type": "code",
   "execution_count": 202,
   "id": "f4852d70",
   "metadata": {},
   "outputs": [
    {
     "data": {
      "text/html": [
       "\n",
       "        <iframe\n",
       "            width=\"100%\"\n",
       "            height=\"525px\"\n",
       "            src=\"https://plotly.com/~arthurogerio/16.embed\"\n",
       "            frameborder=\"0\"\n",
       "            allowfullscreen\n",
       "        ></iframe>\n",
       "        "
      ],
      "text/plain": [
       "<IPython.lib.display.IFrame at 0x22400090820>"
      ]
     },
     "execution_count": 202,
     "metadata": {},
     "output_type": "execute_result"
    }
   ],
   "source": [
    "fig = make_subplots(rows=1, cols=2, shared_yaxes=True)\n",
    "\n",
    "fig.add_trace(go.Bar(x=aux_inicio['Consegue controlar as preocupações?'].value_counts().index,\n",
    "                     y=aux_inicio['Consegue controlar as preocupações?'].value_counts().values,\n",
    "                    name='Início'), 1, 1)\n",
    "\n",
    "fig.add_trace(go.Bar(x=aux_fim['Consegue controlar as preocupações?'].value_counts().index,\n",
    "                     y=aux_fim['Consegue controlar as preocupações?'].value_counts().values,\n",
    "                    name='Fim'),1, 2)\n",
    "\n",
    "fig.update_layout(title_text='Verificando evolução dos participantes (Consegue controlar as preocupações?)')\n",
    "\n",
    "#fig.show()\n",
    "py.iplot(fig, filename = 'evolucao-2')"
   ]
  },
  {
   "cell_type": "markdown",
   "id": "d3e69876",
   "metadata": {},
   "source": [
    "### Participantes menos ativos"
   ]
  },
  {
   "cell_type": "code",
   "execution_count": 133,
   "id": "a9c8c24e",
   "metadata": {},
   "outputs": [],
   "source": [
    "participantes_menos_ativos = df_fim.sort_values('Tempo Gasto no Aplicativo (Em Minutos)', \n",
    "                                               ascending=False)[['id', 'Tempo Gasto no Aplicativo (Em Minutos)']].tail(10)"
   ]
  },
  {
   "cell_type": "code",
   "execution_count": 134,
   "id": "a094af6e",
   "metadata": {},
   "outputs": [],
   "source": [
    "menos_ativos = list(participantes_menos_ativos.id.values)"
   ]
  },
  {
   "cell_type": "code",
   "execution_count": 135,
   "id": "2f7a9c7f",
   "metadata": {},
   "outputs": [],
   "source": [
    "aux_inicio = df_inicio.query(f'Id == {menos_ativos}')"
   ]
  },
  {
   "cell_type": "code",
   "execution_count": 136,
   "id": "831dbdf1",
   "metadata": {},
   "outputs": [],
   "source": [
    "aux_fim = df_fim.query(f'id == {menos_ativos}')"
   ]
  },
  {
   "cell_type": "code",
   "execution_count": 203,
   "id": "5b1ae5ca",
   "metadata": {},
   "outputs": [
    {
     "data": {
      "text/html": [
       "\n",
       "        <iframe\n",
       "            width=\"100%\"\n",
       "            height=\"525px\"\n",
       "            src=\"https://plotly.com/~arthurogerio/18.embed\"\n",
       "            frameborder=\"0\"\n",
       "            allowfullscreen\n",
       "        ></iframe>\n",
       "        "
      ],
      "text/plain": [
       "<IPython.lib.display.IFrame at 0x2247f689280>"
      ]
     },
     "execution_count": 203,
     "metadata": {},
     "output_type": "execute_result"
    }
   ],
   "source": [
    "fig = make_subplots(rows=1, cols=2, shared_yaxes=True)\n",
    "\n",
    "fig.add_trace(go.Bar(x=aux_inicio['Nervosa ou Tensa?'].value_counts().index,\n",
    "                     y=aux_inicio['Nervosa ou Tensa?'].value_counts().values,\n",
    "                    name='Início'), 1, 1)\n",
    "\n",
    "fig.add_trace(go.Bar(x=aux_fim['Nervosa ou Tensa?'].value_counts().index,\n",
    "                     y=aux_fim['Nervosa ou Tensa?'].value_counts().values,\n",
    "                    name='Fim'),1, 2)\n",
    "\n",
    "fig.update_layout(title_text='Verificando evolução dos participantes (Nervosa ou Tensa?)')\n",
    "\n",
    "#fig.show()\n",
    "py.iplot(fig, filename = 'evolucao-1-menos-ativos')"
   ]
  },
  {
   "cell_type": "code",
   "execution_count": 204,
   "id": "ee213943",
   "metadata": {},
   "outputs": [
    {
     "data": {
      "text/html": [
       "\n",
       "        <iframe\n",
       "            width=\"100%\"\n",
       "            height=\"525px\"\n",
       "            src=\"https://plotly.com/~arthurogerio/20.embed\"\n",
       "            frameborder=\"0\"\n",
       "            allowfullscreen\n",
       "        ></iframe>\n",
       "        "
      ],
      "text/plain": [
       "<IPython.lib.display.IFrame at 0x2247ea9eeb0>"
      ]
     },
     "execution_count": 204,
     "metadata": {},
     "output_type": "execute_result"
    }
   ],
   "source": [
    "fig = make_subplots(rows=1, cols=2, shared_yaxes=True)\n",
    "\n",
    "fig.add_trace(go.Bar(x=aux_inicio['Consegue controlar as preocupações?'].value_counts().index,\n",
    "                     y=aux_inicio['Consegue controlar as preocupações?'].value_counts().values,\n",
    "                    name='Início'), 1, 1)\n",
    "\n",
    "fig.add_trace(go.Bar(x=aux_fim['Consegue controlar as preocupações?'].value_counts().index,\n",
    "                     y=aux_fim['Consegue controlar as preocupações?'].value_counts().values,\n",
    "                    name='Fim'),1, 2)\n",
    "\n",
    "fig.update_layout(title_text='Verificando evolução dos participantes (Consegue controlar as preocupações?)')\n",
    "\n",
    "#fig.show()\n",
    "py.iplot(fig, filename = 'evolucao-2-menos-ativos')"
   ]
  },
  {
   "cell_type": "code",
   "execution_count": null,
   "id": "94295082",
   "metadata": {},
   "outputs": [],
   "source": []
  },
  {
   "cell_type": "code",
   "execution_count": null,
   "id": "c3902dda",
   "metadata": {},
   "outputs": [],
   "source": []
  },
  {
   "cell_type": "code",
   "execution_count": null,
   "id": "97f7f254",
   "metadata": {},
   "outputs": [],
   "source": []
  },
  {
   "cell_type": "code",
   "execution_count": 146,
   "id": "3f8896eb",
   "metadata": {},
   "outputs": [
    {
     "data": {
      "text/plain": [
       "Empresa A    550\n",
       "Empresa B    550\n",
       "Empresa C    548\n",
       "Name: Nome da Empresa, dtype: int64"
      ]
     },
     "execution_count": 146,
     "metadata": {},
     "output_type": "execute_result"
    }
   ],
   "source": [
    "df_inicio['Nome da Empresa'].value_counts()"
   ]
  },
  {
   "cell_type": "code",
   "execution_count": 152,
   "id": "a1b6ed9e",
   "metadata": {},
   "outputs": [],
   "source": [
    "empresa_b_inicio = df_inicio[df_inicio['Nome da Empresa'] == 'Empresa B']\n",
    "empresa_b_fim = df_fim[df_fim['Nome da Empresa'] == 'Empresa B']"
   ]
  },
  {
   "cell_type": "code",
   "execution_count": 205,
   "id": "66b060d4",
   "metadata": {},
   "outputs": [
    {
     "data": {
      "text/html": [
       "\n",
       "        <iframe\n",
       "            width=\"100%\"\n",
       "            height=\"525px\"\n",
       "            src=\"https://plotly.com/~arthurogerio/22.embed\"\n",
       "            frameborder=\"0\"\n",
       "            allowfullscreen\n",
       "        ></iframe>\n",
       "        "
      ],
      "text/plain": [
       "<IPython.lib.display.IFrame at 0x2247e1f4580>"
      ]
     },
     "execution_count": 205,
     "metadata": {},
     "output_type": "execute_result"
    }
   ],
   "source": [
    "fig = make_subplots(rows=1, cols=2, shared_yaxes=True)\n",
    "\n",
    "fig.add_trace(go.Bar(x=empresa_b['Nervosa ou Tensa?'].value_counts().index,\n",
    "                     y=empresa_b['Nervosa ou Tensa?'].value_counts().values,\n",
    "                    name='Início'), 1, 1)\n",
    "\n",
    "fig.add_trace(go.Bar(x=empresa_b_fim['Nervosa ou Tensa?'].value_counts().index,\n",
    "                     y=empresa_b_fim['Nervosa ou Tensa?'].value_counts().values,\n",
    "                    name='Fim'),1, 2)\n",
    "\n",
    "fig.update_layout(title_text='Verificando evolução dos participantes (Nervosa ou Tensa?)')\n",
    "\n",
    "#fig.show()\n",
    "py.iplot(fig, filename = 'evolucao-empresab')"
   ]
  },
  {
   "cell_type": "code",
   "execution_count": 160,
   "id": "9fb27293",
   "metadata": {},
   "outputs": [],
   "source": [
    "empresa_tempo = df_fim[['Nome da Empresa', 'Tempo Gasto no Aplicativo (Em Minutos)']].groupby('Nome da Empresa').sum()\\\n",
    ".sort_values(by='Tempo Gasto no Aplicativo (Em Minutos)', ascending=False)"
   ]
  },
  {
   "cell_type": "code",
   "execution_count": 206,
   "id": "46f33e22",
   "metadata": {},
   "outputs": [
    {
     "data": {
      "text/html": [
       "\n",
       "        <iframe\n",
       "            width=\"100%\"\n",
       "            height=\"525px\"\n",
       "            src=\"https://plotly.com/~arthurogerio/24.embed\"\n",
       "            frameborder=\"0\"\n",
       "            allowfullscreen\n",
       "        ></iframe>\n",
       "        "
      ],
      "text/plain": [
       "<IPython.lib.display.IFrame at 0x2247e1f4100>"
      ]
     },
     "execution_count": 206,
     "metadata": {},
     "output_type": "execute_result"
    }
   ],
   "source": [
    "fig = px.bar(empresa_tempo, x=empresa_tempo.index, y='Tempo Gasto no Aplicativo (Em Minutos)',\n",
    "            title='Tempo gasto no app por empresa')\n",
    "\n",
    "#fig.show()\n",
    "py.iplot(fig, filename = 'tempo-gasto-empresa')"
   ]
  },
  {
   "cell_type": "code",
   "execution_count": 178,
   "id": "4b1d3035",
   "metadata": {},
   "outputs": [],
   "source": [
    "empresa_interacoes = df_fim[['Nome da Empresa', 'Número de Interações no aplicativo']].groupby('Nome da Empresa').sum()\\\n",
    ".sort_values(by='Número de Interações no aplicativo', ascending=False)"
   ]
  },
  {
   "cell_type": "code",
   "execution_count": 207,
   "id": "b067410b",
   "metadata": {},
   "outputs": [
    {
     "data": {
      "text/html": [
       "\n",
       "        <iframe\n",
       "            width=\"100%\"\n",
       "            height=\"525px\"\n",
       "            src=\"https://plotly.com/~arthurogerio/26.embed\"\n",
       "            frameborder=\"0\"\n",
       "            allowfullscreen\n",
       "        ></iframe>\n",
       "        "
      ],
      "text/plain": [
       "<IPython.lib.display.IFrame at 0x2247f9cc340>"
      ]
     },
     "execution_count": 207,
     "metadata": {},
     "output_type": "execute_result"
    }
   ],
   "source": [
    "fig = px.bar(empresa_interacoes, x=empresa_interacoes.index, y='Número de Interações no aplicativo',\n",
    "            title='Número de Interações no app por empresa')\n",
    "\n",
    "#fig.show()\n",
    "py.iplot(fig, filename = 'num-interacao-empresa')"
   ]
  },
  {
   "cell_type": "markdown",
   "id": "2819ac4f",
   "metadata": {},
   "source": [
    "## Algumas conclusões"
   ]
  },
  {
   "cell_type": "markdown",
   "id": "cb5dead2",
   "metadata": {},
   "source": [
    "- Uma métrica que poderia ser adiciona ao formulário é o NPS (futuras análises)\n",
    "- Importante fazer os participantes responderem o formulário de forma mais recorrente\n",
    "- Trazer uma melhoria relacionada aos temas das conversas extras mais solicitadas\n",
    "    - seja no app\n",
    "    - evento\n",
    "    - gerar conteúdo\n",
    "- O app está realmente dando bons resultados para os participantes"
   ]
  },
  {
   "cell_type": "markdown",
   "id": "e5978d7e",
   "metadata": {},
   "source": [
    "------------------"
   ]
  },
  {
   "cell_type": "code",
   "execution_count": 187,
   "id": "4376a799",
   "metadata": {},
   "outputs": [],
   "source": [
    "import chart_studio"
   ]
  },
  {
   "cell_type": "code",
   "execution_count": 183,
   "id": "bd478c98",
   "metadata": {},
   "outputs": [],
   "source": [
    "#conectando com a api do plotly cloud"
   ]
  },
  {
   "cell_type": "code",
   "execution_count": 189,
   "id": "8119b176",
   "metadata": {},
   "outputs": [],
   "source": [
    "chart_studio.tools.set_credentials_file(username='arthurogerio', api_key='XMOgZgIjtOou4b95AeSm')"
   ]
  },
  {
   "cell_type": "code",
   "execution_count": null,
   "id": "0b2fea14",
   "metadata": {},
   "outputs": [],
   "source": []
  }
 ],
 "metadata": {
  "kernelspec": {
   "display_name": "Python 3 (ipykernel)",
   "language": "python",
   "name": "python3"
  },
  "language_info": {
   "codemirror_mode": {
    "name": "ipython",
    "version": 3
   },
   "file_extension": ".py",
   "mimetype": "text/x-python",
   "name": "python",
   "nbconvert_exporter": "python",
   "pygments_lexer": "ipython3",
   "version": "3.8.11"
  }
 },
 "nbformat": 4,
 "nbformat_minor": 5
}
